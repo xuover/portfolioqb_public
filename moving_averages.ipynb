{
  "nbformat": 4,
  "nbformat_minor": 0,
  "metadata": {
    "colab": {
      "name": "moving averages",
      "provenance": [],
      "authorship_tag": "ABX9TyPjuNyrsEpbzfSh3c6onoZ5",
      "include_colab_link": true
    },
    "kernelspec": {
      "name": "python3",
      "display_name": "Python 3"
    }
  },
  "cells": [
    {
      "cell_type": "markdown",
      "metadata": {
        "id": "view-in-github",
        "colab_type": "text"
      },
      "source": [
        "<a href=\"https://colab.research.google.com/github/xuover/portfolioqb_public/blob/master/moving_averages.ipynb\" target=\"_parent\"><img src=\"https://colab.research.google.com/assets/colab-badge.svg\" alt=\"Open In Colab\"/></a>"
      ]
    },
    {
      "cell_type": "code",
      "metadata": {
        "id": "VEAi_xsRYSbf",
        "colab_type": "code",
        "colab": {}
      },
      "source": [
        "import pandas as pd\n",
        "import numpy as np\n",
        "import yfinance as yf\n",
        "import datetime as dt\n",
        "from pandas_datareader import data as pdr "
      ],
      "execution_count": 0,
      "outputs": []
    },
    {
      "cell_type": "code",
      "metadata": {
        "id": "3SKRC-zAacMO",
        "colab_type": "code",
        "colab": {}
      },
      "source": [
        "# Workaround for yfinance\n",
        "yf.pdr_override()"
      ],
      "execution_count": 0,
      "outputs": []
    },
    {
      "cell_type": "code",
      "metadata": {
        "id": "lXTLXvX7Znqg",
        "colab_type": "code",
        "outputId": "738ababa-a75b-41f5-b3ab-803212aa0adf",
        "colab": {
          "base_uri": "https://localhost:8080/",
          "height": 377
        }
      },
      "source": [
        "!pip install yfinance"
      ],
      "execution_count": 0,
      "outputs": [
        {
          "output_type": "stream",
          "text": [
            "Collecting yfinance\n",
            "  Downloading https://files.pythonhosted.org/packages/c2/31/8b374a12b90def92a4e27d0fc595fc43635f395984e36a075244d98bd265/yfinance-0.1.54.tar.gz\n",
            "Requirement already satisfied: pandas>=0.24 in /usr/local/lib/python3.6/dist-packages (from yfinance) (0.25.3)\n",
            "Requirement already satisfied: numpy>=1.15 in /usr/local/lib/python3.6/dist-packages (from yfinance) (1.18.2)\n",
            "Requirement already satisfied: requests>=2.20 in /usr/local/lib/python3.6/dist-packages (from yfinance) (2.21.0)\n",
            "Requirement already satisfied: multitasking>=0.0.7 in /usr/local/lib/python3.6/dist-packages (from yfinance) (0.0.9)\n",
            "Requirement already satisfied: pytz>=2017.2 in /usr/local/lib/python3.6/dist-packages (from pandas>=0.24->yfinance) (2018.9)\n",
            "Requirement already satisfied: python-dateutil>=2.6.1 in /usr/local/lib/python3.6/dist-packages (from pandas>=0.24->yfinance) (2.8.1)\n",
            "Requirement already satisfied: certifi>=2017.4.17 in /usr/local/lib/python3.6/dist-packages (from requests>=2.20->yfinance) (2019.11.28)\n",
            "Requirement already satisfied: chardet<3.1.0,>=3.0.2 in /usr/local/lib/python3.6/dist-packages (from requests>=2.20->yfinance) (3.0.4)\n",
            "Requirement already satisfied: idna<2.9,>=2.5 in /usr/local/lib/python3.6/dist-packages (from requests>=2.20->yfinance) (2.8)\n",
            "Requirement already satisfied: urllib3<1.25,>=1.21.1 in /usr/local/lib/python3.6/dist-packages (from requests>=2.20->yfinance) (1.24.3)\n",
            "Requirement already satisfied: six>=1.5 in /usr/local/lib/python3.6/dist-packages (from python-dateutil>=2.6.1->pandas>=0.24->yfinance) (1.12.0)\n",
            "Building wheels for collected packages: yfinance\n",
            "  Building wheel for yfinance (setup.py) ... \u001b[?25l\u001b[?25hdone\n",
            "  Created wheel for yfinance: filename=yfinance-0.1.54-py2.py3-none-any.whl size=22409 sha256=a6bc7c8a43bc7e898524e6cc1e74146be07272b4d9d2997eac48eecdb165f46f\n",
            "  Stored in directory: /root/.cache/pip/wheels/f9/e3/5b/ec24dd2984b12d61e0abf26289746c2436a0e7844f26f2515c\n",
            "Successfully built yfinance\n",
            "Installing collected packages: yfinance\n",
            "Successfully installed yfinance-0.1.54\n"
          ],
          "name": "stdout"
        }
      ]
    },
    {
      "cell_type": "code",
      "metadata": {
        "id": "cHmHhlyRasLn",
        "colab_type": "code",
        "outputId": "d30d2a0c-3fd5-4c7b-9c44-2f68abdd8f81",
        "colab": {
          "base_uri": "https://localhost:8080/",
          "height": 102
        }
      },
      "source": [
        "# Inputs from user interface\n",
        "\n",
        "stock = input(\"Enter a ticker symbol: \")\n",
        "print(stock)\n",
        "\n",
        "startyear = int(input(\"Enter start year: \"))\n",
        "startmonth = int(input(\"Enter start month: \"))\n",
        "startday = int(input(\"Enter start day: \"))\n",
        "\n",
        "start = dt.datetime(startyear, startmonth, startday)\n",
        "\n",
        "now = dt.datetime.now()"
      ],
      "execution_count": 0,
      "outputs": [
        {
          "output_type": "stream",
          "text": [
            "Enter a ticker symbol: vxx\n",
            "vxx\n",
            "Enter start year: 2009\n",
            "Enter start month: 1\n",
            "Enter start day: 1\n"
          ],
          "name": "stdout"
        }
      ]
    },
    {
      "cell_type": "code",
      "metadata": {
        "id": "qO0-11z_boRz",
        "colab_type": "code",
        "outputId": "842cab1e-f4dd-40ac-860f-20ab01ed7051",
        "colab": {
          "base_uri": "https://localhost:8080/",
          "height": 272
        }
      },
      "source": [
        "# Get dataframe for stock\n",
        "\n",
        "df = pdr.get_data_yahoo(stock, start, now)\n",
        "print(df)\n"
      ],
      "execution_count": 0,
      "outputs": [
        {
          "output_type": "stream",
          "text": [
            "                     High            Low  ...      Volume      Adj Close\n",
            "Date                                      ...                           \n",
            "2009-01-30  107560.960938  102144.000000  ...       200.0  107089.921875\n",
            "2009-02-02  110694.398438  106434.562500  ...       300.0  106752.000000\n",
            "2009-02-03  106639.359375  101693.437500  ...       100.0  101754.882812\n",
            "2009-02-04  102799.359375   99328.000000  ...       100.0  102133.757812\n",
            "2009-02-05  106280.960938  100505.601562  ...       200.0  101509.117188\n",
            "...                   ...            ...  ...         ...            ...\n",
            "2020-03-16      61.970001      51.540001  ...  48600100.0      59.209999\n",
            "2020-03-17      62.619999      54.230000  ...  49191900.0      58.509998\n",
            "2020-03-18      78.839996      61.849998  ...  75822200.0      69.000000\n",
            "2020-03-19      76.900002      55.900002  ...  82829700.0      62.000000\n",
            "2020-03-20      63.080002      52.520000  ...  57211600.0      60.549999\n",
            "\n",
            "[2804 rows x 6 columns]\n"
          ],
          "name": "stdout"
        }
      ]
    },
    {
      "cell_type": "code",
      "metadata": {
        "id": "KAjjwrAjhzUT",
        "colab_type": "code",
        "colab": {}
      },
      "source": [
        "# Calc 20D moving average\n",
        "\n",
        "ma = 20\n",
        "\n",
        "smaString = \"sma_\"+str(ma)\n",
        "\n",
        "df[smaString] = d"
      ],
      "execution_count": 0,
      "outputs": []
    }
  ]
}