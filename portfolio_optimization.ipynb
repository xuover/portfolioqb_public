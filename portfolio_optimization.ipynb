{
  "nbformat": 4,
  "nbformat_minor": 0,
  "metadata": {
    "colab": {
      "name": "portfolio optimization",
      "provenance": [],
      "authorship_tag": "ABX9TyNQRzVeJ7cof7/doNylL9vR",
      "include_colab_link": true
    },
    "kernelspec": {
      "name": "python3",
      "display_name": "Python 3"
    }
  },
  "cells": [
    {
      "cell_type": "markdown",
      "metadata": {
        "id": "view-in-github",
        "colab_type": "text"
      },
      "source": [
        "<a href=\"https://colab.research.google.com/github/xuover/portfolioqb_public/blob/master/portfolio_optimization.ipynb\" target=\"_parent\"><img src=\"https://colab.research.google.com/assets/colab-badge.svg\" alt=\"Open In Colab\"/></a>"
      ]
    },
    {
      "cell_type": "code",
      "metadata": {
        "id": "oCbreD_NxYGC",
        "colab_type": "code",
        "colab": {}
      },
      "source": [
        "# This program attempts to optimize a users portfolio using the Efficient Frontier\n",
        "# credit \"Computer Science\" YouTube channel"
      ],
      "execution_count": 0,
      "outputs": []
    },
    {
      "cell_type": "code",
      "metadata": {
        "id": "Q93mlT5pl7b-",
        "colab_type": "code",
        "colab": {}
      },
      "source": [
        "# Import Python libraries\n",
        "from pandas_datareader import data as web\n",
        "import pandas as pd\n",
        "import numpy as np\n",
        "from datetime import datetime\n",
        "import matplotlib.pyplot as plt\n",
        "plt.style.use(\"fivethirtyeight\")"
      ],
      "execution_count": 0,
      "outputs": []
    },
    {
      "cell_type": "code",
      "metadata": {
        "id": "SrJt2C1wnlHU",
        "colab_type": "code",
        "colab": {}
      },
      "source": [
        "# Get the tickers in the portfolio\n",
        "holdings = [\"GOOGL\", \"AAPL\", \"TWTR\", \"NKE\", \"GLD\", \"BP\", \"BIDU\"]"
      ],
      "execution_count": 0,
      "outputs": []
    },
    {
      "cell_type": "code",
      "metadata": {
        "id": "8ecbUK0qocDT",
        "colab_type": "code",
        "colab": {}
      },
      "source": [
        "# Assign weights to stocks\n",
        "weights = np.array([0.45, 0.22, 0.1, 0.12, 0.07, 0.02, 0.02])"
      ],
      "execution_count": 0,
      "outputs": []
    },
    {
      "cell_type": "code",
      "metadata": {
        "id": "q6HAifB0rEjP",
        "colab_type": "code",
        "colab": {}
      },
      "source": [
        "# Set the holdings start date\n",
        "stockStartDate = '2015-01-01'"
      ],
      "execution_count": 0,
      "outputs": []
    },
    {
      "cell_type": "code",
      "metadata": {
        "id": "0XjGqhOurdV8",
        "colab_type": "code",
        "outputId": "5db83e73-2366-4164-d60d-a0430293e037",
        "colab": {
          "base_uri": "https://localhost:8080/",
          "height": 34
        }
      },
      "source": [
        "# Set the holdings current date (today)\n",
        "today = datetime.today().strftime('%Y-%m-%d')\n",
        "today"
      ],
      "execution_count": 0,
      "outputs": [
        {
          "output_type": "execute_result",
          "data": {
            "text/plain": [
              "'2020-03-19'"
            ]
          },
          "metadata": {
            "tags": []
          },
          "execution_count": 15
        }
      ]
    },
    {
      "cell_type": "code",
      "metadata": {
        "id": "ArkX3VIKsLiR",
        "colab_type": "code",
        "colab": {}
      },
      "source": [
        "# Create a dataframe to store the adjusted close price of the holdings\n",
        "df = pd.DataFrame()\n",
        "\n",
        "# Store the 'Adj Close' price of the stock in the df\n",
        "for stock in holdings:\n",
        "  df[stock] = web.DataReader(stock, data_source='yahoo', start=stockStartDate, end=today)['Adj Close']"
      ],
      "execution_count": 0,
      "outputs": []
    },
    {
      "cell_type": "code",
      "metadata": {
        "id": "5pudHYSwHzmu",
        "colab_type": "code",
        "outputId": "0bdcd093-e4ae-4407-edd0-dbdcc084ba05",
        "colab": {
          "base_uri": "https://localhost:8080/",
          "height": 450
        }
      },
      "source": [
        "# Show the df\n",
        "df"
      ],
      "execution_count": 0,
      "outputs": [
        {
          "output_type": "execute_result",
          "data": {
            "text/html": [
              "<div>\n",
              "<style scoped>\n",
              "    .dataframe tbody tr th:only-of-type {\n",
              "        vertical-align: middle;\n",
              "    }\n",
              "\n",
              "    .dataframe tbody tr th {\n",
              "        vertical-align: top;\n",
              "    }\n",
              "\n",
              "    .dataframe thead th {\n",
              "        text-align: right;\n",
              "    }\n",
              "</style>\n",
              "<table border=\"1\" class=\"dataframe\">\n",
              "  <thead>\n",
              "    <tr style=\"text-align: right;\">\n",
              "      <th></th>\n",
              "      <th>GOOGL</th>\n",
              "      <th>AAPL</th>\n",
              "      <th>TWTR</th>\n",
              "      <th>NKE</th>\n",
              "      <th>GLD</th>\n",
              "      <th>BP</th>\n",
              "      <th>BIDU</th>\n",
              "    </tr>\n",
              "    <tr>\n",
              "      <th>Date</th>\n",
              "      <th></th>\n",
              "      <th></th>\n",
              "      <th></th>\n",
              "      <th></th>\n",
              "      <th></th>\n",
              "      <th></th>\n",
              "      <th></th>\n",
              "    </tr>\n",
              "  </thead>\n",
              "  <tbody>\n",
              "    <tr>\n",
              "      <th>2015-01-02</th>\n",
              "      <td>529.549988</td>\n",
              "      <td>100.216454</td>\n",
              "      <td>36.560001</td>\n",
              "      <td>44.143959</td>\n",
              "      <td>114.080002</td>\n",
              "      <td>27.209009</td>\n",
              "      <td>223.080002</td>\n",
              "    </tr>\n",
              "    <tr>\n",
              "      <th>2015-01-05</th>\n",
              "      <td>519.460022</td>\n",
              "      <td>97.393181</td>\n",
              "      <td>36.380001</td>\n",
              "      <td>43.433231</td>\n",
              "      <td>115.800003</td>\n",
              "      <td>25.767183</td>\n",
              "      <td>219.789993</td>\n",
              "    </tr>\n",
              "    <tr>\n",
              "      <th>2015-01-06</th>\n",
              "      <td>506.640015</td>\n",
              "      <td>97.402374</td>\n",
              "      <td>38.759998</td>\n",
              "      <td>43.177742</td>\n",
              "      <td>117.120003</td>\n",
              "      <td>25.574469</td>\n",
              "      <td>220.179993</td>\n",
              "    </tr>\n",
              "    <tr>\n",
              "      <th>2015-01-07</th>\n",
              "      <td>505.149994</td>\n",
              "      <td>98.768150</td>\n",
              "      <td>37.279999</td>\n",
              "      <td>44.069637</td>\n",
              "      <td>116.430000</td>\n",
              "      <td>25.638706</td>\n",
              "      <td>224.350006</td>\n",
              "    </tr>\n",
              "    <tr>\n",
              "      <th>2015-01-08</th>\n",
              "      <td>506.910004</td>\n",
              "      <td>102.563072</td>\n",
              "      <td>39.090000</td>\n",
              "      <td>45.086948</td>\n",
              "      <td>115.940002</td>\n",
              "      <td>26.216864</td>\n",
              "      <td>229.210007</td>\n",
              "    </tr>\n",
              "    <tr>\n",
              "      <th>...</th>\n",
              "      <td>...</td>\n",
              "      <td>...</td>\n",
              "      <td>...</td>\n",
              "      <td>...</td>\n",
              "      <td>...</td>\n",
              "      <td>...</td>\n",
              "      <td>...</td>\n",
              "    </tr>\n",
              "    <tr>\n",
              "      <th>2020-03-13</th>\n",
              "      <td>1214.270020</td>\n",
              "      <td>277.970001</td>\n",
              "      <td>29.290001</td>\n",
              "      <td>75.580002</td>\n",
              "      <td>143.279999</td>\n",
              "      <td>22.170000</td>\n",
              "      <td>100.290001</td>\n",
              "    </tr>\n",
              "    <tr>\n",
              "      <th>2020-03-16</th>\n",
              "      <td>1073.000000</td>\n",
              "      <td>242.210007</td>\n",
              "      <td>24.040001</td>\n",
              "      <td>66.790001</td>\n",
              "      <td>141.639999</td>\n",
              "      <td>18.840000</td>\n",
              "      <td>89.680000</td>\n",
              "    </tr>\n",
              "    <tr>\n",
              "      <th>2020-03-17</th>\n",
              "      <td>1118.060059</td>\n",
              "      <td>252.860001</td>\n",
              "      <td>24.480000</td>\n",
              "      <td>69.839996</td>\n",
              "      <td>143.559998</td>\n",
              "      <td>18.840000</td>\n",
              "      <td>91.129997</td>\n",
              "    </tr>\n",
              "    <tr>\n",
              "      <th>2020-03-18</th>\n",
              "      <td>1091.189941</td>\n",
              "      <td>246.669998</td>\n",
              "      <td>22.000000</td>\n",
              "      <td>68.040001</td>\n",
              "      <td>140.699997</td>\n",
              "      <td>16.110001</td>\n",
              "      <td>83.620003</td>\n",
              "    </tr>\n",
              "    <tr>\n",
              "      <th>2020-03-19</th>\n",
              "      <td>1120.010010</td>\n",
              "      <td>247.119995</td>\n",
              "      <td>23.910000</td>\n",
              "      <td>70.660004</td>\n",
              "      <td>138.617996</td>\n",
              "      <td>17.061001</td>\n",
              "      <td>88.800003</td>\n",
              "    </tr>\n",
              "  </tbody>\n",
              "</table>\n",
              "<p>1312 rows × 7 columns</p>\n",
              "</div>"
            ],
            "text/plain": [
              "                  GOOGL        AAPL  ...         BP        BIDU\n",
              "Date                                 ...                       \n",
              "2015-01-02   529.549988  100.216454  ...  27.209009  223.080002\n",
              "2015-01-05   519.460022   97.393181  ...  25.767183  219.789993\n",
              "2015-01-06   506.640015   97.402374  ...  25.574469  220.179993\n",
              "2015-01-07   505.149994   98.768150  ...  25.638706  224.350006\n",
              "2015-01-08   506.910004  102.563072  ...  26.216864  229.210007\n",
              "...                 ...         ...  ...        ...         ...\n",
              "2020-03-13  1214.270020  277.970001  ...  22.170000  100.290001\n",
              "2020-03-16  1073.000000  242.210007  ...  18.840000   89.680000\n",
              "2020-03-17  1118.060059  252.860001  ...  18.840000   91.129997\n",
              "2020-03-18  1091.189941  246.669998  ...  16.110001   83.620003\n",
              "2020-03-19  1120.010010  247.119995  ...  17.061001   88.800003\n",
              "\n",
              "[1312 rows x 7 columns]"
            ]
          },
          "metadata": {
            "tags": []
          },
          "execution_count": 41
        }
      ]
    },
    {
      "cell_type": "code",
      "metadata": {
        "id": "OFDLPptwIE4o",
        "colab_type": "code",
        "outputId": "954e5844-8389-43c8-acb5-13e0a386cc10",
        "colab": {
          "base_uri": "https://localhost:8080/",
          "height": 447
        }
      },
      "source": [
        "# Visually show the portfolio\n",
        "title = \"Portfolio Adj. Close Price History\"\n",
        "\n",
        "# Get the portfolio\n",
        "my_portfolio = df\n",
        "\n",
        "# Create and plot the graph\n",
        "for c in my_portfolio.columns.values:\n",
        "  plt.plot(my_portfolio[c], label = c)\n",
        "\n",
        "plt.title(title)\n",
        "plt.xlabel(\"date\", fontsize = 18)\n",
        "plt.ylabel(\"Adj. Close ($)\", fontsize = 18)\n",
        "plt.legend(my_portfolio.columns.values, loc = 'upper left')\n",
        "plt.show()"
      ],
      "execution_count": 0,
      "outputs": [
        {
          "output_type": "stream",
          "text": [
            "/usr/local/lib/python3.6/dist-packages/pandas/plotting/_matplotlib/converter.py:103: FutureWarning: Using an implicitly registered datetime converter for a matplotlib plotting method. The converter was registered by pandas on import. Future versions of pandas will require you to explicitly register matplotlib converters.\n",
            "\n",
            "To register the converters:\n",
            "\t>>> from pandas.plotting import register_matplotlib_converters\n",
            "\t>>> register_matplotlib_converters()\n",
            "  warnings.warn(msg, FutureWarning)\n"
          ],
          "name": "stderr"
        },
        {
          "output_type": "display_data",
          "data": {
            "image/png": "[encoded data removed]",
            "text/plain": [
              "<Figure size 432x288 with 1 Axes>"
            ]
          },
          "metadata": {
            "tags": []
          }
        }
      ]
    },
    {
      "cell_type": "code",
      "metadata": {
        "id": "w5iCC5cNIJ45",
        "colab_type": "code",
        "outputId": "2cb56af2-5717-4e96-a059-1a4e4f4069b5",
        "colab": {
          "base_uri": "https://localhost:8080/",
          "height": 450
        }
      },
      "source": [
        "# Show the daily simple return\n",
        "returns = df.pct_change()\n",
        "returns"
      ],
      "execution_count": 0,
      "outputs": [
        {
          "output_type": "execute_result",
          "data": {
            "text/html": [
              "<div>\n",
              "<style scoped>\n",
              "    .dataframe tbody tr th:only-of-type {\n",
              "        vertical-align: middle;\n",
              "    }\n",
              "\n",
              "    .dataframe tbody tr th {\n",
              "        vertical-align: top;\n",
              "    }\n",
              "\n",
              "    .dataframe thead th {\n",
              "        text-align: right;\n",
              "    }\n",
              "</style>\n",
              "<table border=\"1\" class=\"dataframe\">\n",
              "  <thead>\n",
              "    <tr style=\"text-align: right;\">\n",
              "      <th></th>\n",
              "      <th>GOOGL</th>\n",
              "      <th>AAPL</th>\n",
              "      <th>TWTR</th>\n",
              "      <th>NKE</th>\n",
              "      <th>GLD</th>\n",
              "      <th>BP</th>\n",
              "      <th>BIDU</th>\n",
              "    </tr>\n",
              "    <tr>\n",
              "      <th>Date</th>\n",
              "      <th></th>\n",
              "      <th></th>\n",
              "      <th></th>\n",
              "      <th></th>\n",
              "      <th></th>\n",
              "      <th></th>\n",
              "      <th></th>\n",
              "    </tr>\n",
              "  </thead>\n",
              "  <tbody>\n",
              "    <tr>\n",
              "      <th>2015-01-02</th>\n",
              "      <td>NaN</td>\n",
              "      <td>NaN</td>\n",
              "      <td>NaN</td>\n",
              "      <td>NaN</td>\n",
              "      <td>NaN</td>\n",
              "      <td>NaN</td>\n",
              "      <td>NaN</td>\n",
              "    </tr>\n",
              "    <tr>\n",
              "      <th>2015-01-05</th>\n",
              "      <td>-0.019054</td>\n",
              "      <td>-0.028172</td>\n",
              "      <td>-0.004923</td>\n",
              "      <td>-0.016100</td>\n",
              "      <td>0.015077</td>\n",
              "      <td>-0.052991</td>\n",
              "      <td>-0.014748</td>\n",
              "    </tr>\n",
              "    <tr>\n",
              "      <th>2015-01-06</th>\n",
              "      <td>-0.024679</td>\n",
              "      <td>0.000094</td>\n",
              "      <td>0.065420</td>\n",
              "      <td>-0.005882</td>\n",
              "      <td>0.011399</td>\n",
              "      <td>-0.007479</td>\n",
              "      <td>0.001774</td>\n",
              "    </tr>\n",
              "    <tr>\n",
              "      <th>2015-01-07</th>\n",
              "      <td>-0.002941</td>\n",
              "      <td>0.014022</td>\n",
              "      <td>-0.038184</td>\n",
              "      <td>0.020656</td>\n",
              "      <td>-0.005891</td>\n",
              "      <td>0.002512</td>\n",
              "      <td>0.018939</td>\n",
              "    </tr>\n",
              "    <tr>\n",
              "      <th>2015-01-08</th>\n",
              "      <td>0.003484</td>\n",
              "      <td>0.038423</td>\n",
              "      <td>0.048552</td>\n",
              "      <td>0.023084</td>\n",
              "      <td>-0.004209</td>\n",
              "      <td>0.022550</td>\n",
              "      <td>0.021663</td>\n",
              "    </tr>\n",
              "    <tr>\n",
              "      <th>...</th>\n",
              "      <td>...</td>\n",
              "      <td>...</td>\n",
              "      <td>...</td>\n",
              "      <td>...</td>\n",
              "      <td>...</td>\n",
              "      <td>...</td>\n",
              "      <td>...</td>\n",
              "    </tr>\n",
              "    <tr>\n",
              "      <th>2020-03-12</th>\n",
              "      <td>-0.082046</td>\n",
              "      <td>-0.098755</td>\n",
              "      <td>-0.144409</td>\n",
              "      <td>-0.116667</td>\n",
              "      <td>-0.039888</td>\n",
              "      <td>-0.125304</td>\n",
              "      <td>-0.085450</td>\n",
              "    </tr>\n",
              "    <tr>\n",
              "      <th>2020-03-13</th>\n",
              "      <td>0.092411</td>\n",
              "      <td>0.119808</td>\n",
              "      <td>0.093727</td>\n",
              "      <td>0.018598</td>\n",
              "      <td>-0.030516</td>\n",
              "      <td>0.027816</td>\n",
              "      <td>0.013030</td>\n",
              "    </tr>\n",
              "    <tr>\n",
              "      <th>2020-03-16</th>\n",
              "      <td>-0.116342</td>\n",
              "      <td>-0.128647</td>\n",
              "      <td>-0.179242</td>\n",
              "      <td>-0.116301</td>\n",
              "      <td>-0.011446</td>\n",
              "      <td>-0.150203</td>\n",
              "      <td>-0.105793</td>\n",
              "    </tr>\n",
              "    <tr>\n",
              "      <th>2020-03-17</th>\n",
              "      <td>0.041994</td>\n",
              "      <td>0.043970</td>\n",
              "      <td>0.018303</td>\n",
              "      <td>0.045665</td>\n",
              "      <td>0.013555</td>\n",
              "      <td>0.000000</td>\n",
              "      <td>0.016169</td>\n",
              "    </tr>\n",
              "    <tr>\n",
              "      <th>2020-03-18</th>\n",
              "      <td>-0.024033</td>\n",
              "      <td>-0.024480</td>\n",
              "      <td>-0.101307</td>\n",
              "      <td>-0.025773</td>\n",
              "      <td>-0.019922</td>\n",
              "      <td>-0.144904</td>\n",
              "      <td>-0.082410</td>\n",
              "    </tr>\n",
              "  </tbody>\n",
              "</table>\n",
              "<p>1311 rows × 7 columns</p>\n",
              "</div>"
            ],
            "text/plain": [
              "               GOOGL      AAPL      TWTR  ...       GLD        BP      BIDU\n",
              "Date                                      ...                              \n",
              "2015-01-02       NaN       NaN       NaN  ...       NaN       NaN       NaN\n",
              "2015-01-05 -0.019054 -0.028172 -0.004923  ...  0.015077 -0.052991 -0.014748\n",
              "2015-01-06 -0.024679  0.000094  0.065420  ...  0.011399 -0.007479  0.001774\n",
              "2015-01-07 -0.002941  0.014022 -0.038184  ... -0.005891  0.002512  0.018939\n",
              "2015-01-08  0.003484  0.038423  0.048552  ... -0.004209  0.022550  0.021663\n",
              "...              ...       ...       ...  ...       ...       ...       ...\n",
              "2020-03-12 -0.082046 -0.098755 -0.144409  ... -0.039888 -0.125304 -0.085450\n",
              "2020-03-13  0.092411  0.119808  0.093727  ... -0.030516  0.027816  0.013030\n",
              "2020-03-16 -0.116342 -0.128647 -0.179242  ... -0.011446 -0.150203 -0.105793\n",
              "2020-03-17  0.041994  0.043970  0.018303  ...  0.013555  0.000000  0.016169\n",
              "2020-03-18 -0.024033 -0.024480 -0.101307  ... -0.019922 -0.144904 -0.082410\n",
              "\n",
              "[1311 rows x 7 columns]"
            ]
          },
          "metadata": {
            "tags": []
          },
          "execution_count": 19
        }
      ]
    },
    {
      "cell_type": "code",
      "metadata": {
        "id": "C3b3Q34CLpKM",
        "colab_type": "code",
        "outputId": "0ff16627-20e5-4a98-b088-0511fece3a5f",
        "colab": {
          "base_uri": "https://localhost:8080/",
          "height": 266
        }
      },
      "source": [
        "# Create and show annualized covariance matrix.  Assumes 252 trading days/year.  \n",
        "cov_matrix_annual = returns.cov() * 252\n",
        "cov_matrix_annual"
      ],
      "execution_count": 0,
      "outputs": [
        {
          "output_type": "execute_result",
          "data": {
            "text/html": [
              "<div>\n",
              "<style scoped>\n",
              "    .dataframe tbody tr th:only-of-type {\n",
              "        vertical-align: middle;\n",
              "    }\n",
              "\n",
              "    .dataframe tbody tr th {\n",
              "        vertical-align: top;\n",
              "    }\n",
              "\n",
              "    .dataframe thead th {\n",
              "        text-align: right;\n",
              "    }\n",
              "</style>\n",
              "<table border=\"1\" class=\"dataframe\">\n",
              "  <thead>\n",
              "    <tr style=\"text-align: right;\">\n",
              "      <th></th>\n",
              "      <th>GOOGL</th>\n",
              "      <th>AAPL</th>\n",
              "      <th>TWTR</th>\n",
              "      <th>NKE</th>\n",
              "      <th>GLD</th>\n",
              "      <th>BP</th>\n",
              "      <th>BIDU</th>\n",
              "    </tr>\n",
              "  </thead>\n",
              "  <tbody>\n",
              "    <tr>\n",
              "      <th>GOOGL</th>\n",
              "      <td>0.065478</td>\n",
              "      <td>0.041949</td>\n",
              "      <td>0.049596</td>\n",
              "      <td>0.029767</td>\n",
              "      <td>-0.003312</td>\n",
              "      <td>0.025744</td>\n",
              "      <td>0.041627</td>\n",
              "    </tr>\n",
              "    <tr>\n",
              "      <th>AAPL</th>\n",
              "      <td>0.041949</td>\n",
              "      <td>0.075928</td>\n",
              "      <td>0.050020</td>\n",
              "      <td>0.031130</td>\n",
              "      <td>-0.004173</td>\n",
              "      <td>0.031926</td>\n",
              "      <td>0.042146</td>\n",
              "    </tr>\n",
              "    <tr>\n",
              "      <th>TWTR</th>\n",
              "      <td>0.049596</td>\n",
              "      <td>0.050020</td>\n",
              "      <td>0.274295</td>\n",
              "      <td>0.033096</td>\n",
              "      <td>-0.002628</td>\n",
              "      <td>0.039686</td>\n",
              "      <td>0.047979</td>\n",
              "    </tr>\n",
              "    <tr>\n",
              "      <th>NKE</th>\n",
              "      <td>0.029767</td>\n",
              "      <td>0.031130</td>\n",
              "      <td>0.033096</td>\n",
              "      <td>0.063354</td>\n",
              "      <td>-0.003410</td>\n",
              "      <td>0.024224</td>\n",
              "      <td>0.031907</td>\n",
              "    </tr>\n",
              "    <tr>\n",
              "      <th>GLD</th>\n",
              "      <td>-0.003312</td>\n",
              "      <td>-0.004173</td>\n",
              "      <td>-0.002628</td>\n",
              "      <td>-0.003410</td>\n",
              "      <td>0.016788</td>\n",
              "      <td>0.001749</td>\n",
              "      <td>-0.001969</td>\n",
              "    </tr>\n",
              "    <tr>\n",
              "      <th>BP</th>\n",
              "      <td>0.025744</td>\n",
              "      <td>0.031926</td>\n",
              "      <td>0.039686</td>\n",
              "      <td>0.024224</td>\n",
              "      <td>0.001749</td>\n",
              "      <td>0.074591</td>\n",
              "      <td>0.034615</td>\n",
              "    </tr>\n",
              "    <tr>\n",
              "      <th>BIDU</th>\n",
              "      <td>0.041627</td>\n",
              "      <td>0.042146</td>\n",
              "      <td>0.047979</td>\n",
              "      <td>0.031907</td>\n",
              "      <td>-0.001969</td>\n",
              "      <td>0.034615</td>\n",
              "      <td>0.126946</td>\n",
              "    </tr>\n",
              "  </tbody>\n",
              "</table>\n",
              "</div>"
            ],
            "text/plain": [
              "          GOOGL      AAPL      TWTR       NKE       GLD        BP      BIDU\n",
              "GOOGL  0.065478  0.041949  0.049596  0.029767 -0.003312  0.025744  0.041627\n",
              "AAPL   0.041949  0.075928  0.050020  0.031130 -0.004173  0.031926  0.042146\n",
              "TWTR   0.049596  0.050020  0.274295  0.033096 -0.002628  0.039686  0.047979\n",
              "NKE    0.029767  0.031130  0.033096  0.063354 -0.003410  0.024224  0.031907\n",
              "GLD   -0.003312 -0.004173 -0.002628 -0.003410  0.016788  0.001749 -0.001969\n",
              "BP     0.025744  0.031926  0.039686  0.024224  0.001749  0.074591  0.034615\n",
              "BIDU   0.041627  0.042146  0.047979  0.031907 -0.001969  0.034615  0.126946"
            ]
          },
          "metadata": {
            "tags": []
          },
          "execution_count": 20
        }
      ]
    },
    {
      "cell_type": "code",
      "metadata": {
        "id": "MaVne4V8MW67",
        "colab_type": "code",
        "outputId": "0cb7e21e-34e5-461d-8a08-c592de0035b0",
        "colab": {
          "base_uri": "https://localhost:8080/",
          "height": 34
        }
      },
      "source": [
        "# Calculate the portfolio variance\n",
        "port_variance = np.dot(weights.T, np.dot(cov_matrix_annual, weights))\n",
        "port_variance"
      ],
      "execution_count": 0,
      "outputs": [
        {
          "output_type": "execute_result",
          "data": {
            "text/plain": [
              "0.04345585773731709"
            ]
          },
          "metadata": {
            "tags": []
          },
          "execution_count": 21
        }
      ]
    },
    {
      "cell_type": "code",
      "metadata": {
        "id": "6Fl0f-qmMqWU",
        "colab_type": "code",
        "outputId": "e7e2f148-e817-4fbf-ba24-d08c3f094397",
        "colab": {
          "base_uri": "https://localhost:8080/",
          "height": 34
        }
      },
      "source": [
        "# Calculate portfolio volatility\n",
        "port_volatility = np.sqrt(port_variance)\n",
        "port_volatility"
      ],
      "execution_count": 0,
      "outputs": [
        {
          "output_type": "execute_result",
          "data": {
            "text/plain": [
              "0.2084606863111534"
            ]
          },
          "metadata": {
            "tags": []
          },
          "execution_count": 22
        }
      ]
    },
    {
      "cell_type": "code",
      "metadata": {
        "id": "zQaj5hT1NAUY",
        "colab_type": "code",
        "outputId": "dbf74099-9a22-4b98-8eeb-ece8e0bad173",
        "colab": {
          "base_uri": "https://localhost:8080/",
          "height": 34
        }
      },
      "source": [
        "# Calculate the annual portfolio return\n",
        "portfolioSimpleAnnualReturn = np.sum(returns.mean() * weights) * 252\n",
        "portfolioSimpleAnnualReturn"
      ],
      "execution_count": 0,
      "outputs": [
        {
          "output_type": "execute_result",
          "data": {
            "text/plain": [
              "0.14142596547977626"
            ]
          },
          "metadata": {
            "tags": []
          },
          "execution_count": 23
        }
      ]
    },
    {
      "cell_type": "code",
      "metadata": {
        "id": "jJcd9ORcNjWa",
        "colab_type": "code",
        "outputId": "119d57fb-eac4-4ef0-fd72-3e645e2de300",
        "colab": {
          "base_uri": "https://localhost:8080/",
          "height": 68
        }
      },
      "source": [
        "# Show the expected annual return, volatilty, and variance\n",
        "\n",
        "percent_var = str(round(port_variance, 2) * 100) + \"%\"\n",
        "percent_vols = str(round(port_volatility, 2) * 100) + \"%\"\n",
        "percent_ret = str(round(portfolioSimpleAnnualReturn, 2) * 100) + \"%\"\n",
        "\n",
        "print(\"Expected annual return: \"+ percent_ret)\n",
        "print(\"Annual volatility: \"+ percent_vols)\n",
        "print(\"Annual variance: \"+ percent_var)"
      ],
      "execution_count": 0,
      "outputs": [
        {
          "output_type": "stream",
          "text": [
            "Expected annual return: 14.000000000000002%\n",
            "Annual volatility: 21.0%\n",
            "Annual variance: 4.0%\n"
          ],
          "name": "stdout"
        }
      ]
    },
    {
      "cell_type": "code",
      "metadata": {
        "id": "pdlmeNqVPZe8",
        "colab_type": "code",
        "outputId": "34807a4a-5fac-4fce-a6c1-c69b048795aa",
        "colab": {
          "base_uri": "https://localhost:8080/",
          "height": 343
        }
      },
      "source": [
        "# Install a python library that specializes in portfolio optimization calcs\n",
        "pip install PyPortfolioOpt"
      ],
      "execution_count": 0,
      "outputs": [
        {
          "output_type": "stream",
          "text": [
            "Collecting PyPortfolioOpt\n",
            "\u001b[?25l  Downloading https://files.pythonhosted.org/packages/22/9e/0612886b9223039c2618c3c2f1090cfeb441a44025e36f9d84cd71f7b332/PyPortfolioOpt-1.0.0-py3-none-any.whl (41kB)\n",
            "\r\u001b[K     |███████▉                        | 10kB 19.1MB/s eta 0:00:01\r\u001b[K     |███████████████▋                | 20kB 1.8MB/s eta 0:00:01\r\u001b[K     |███████████████████████▌        | 30kB 2.6MB/s eta 0:00:01\r\u001b[K     |███████████████████████████████▎| 40kB 1.7MB/s eta 0:00:01\r\u001b[K     |████████████████████████████████| 51kB 1.8MB/s \n",
            "\u001b[?25hRequirement already satisfied: numpy in /usr/local/lib/python3.6/dist-packages (from PyPortfolioOpt) (1.18.1)\n",
            "Requirement already satisfied: cvxpy<2.0.0,>=1.0.28 in /usr/local/lib/python3.6/dist-packages (from PyPortfolioOpt) (1.0.28)\n",
            "Requirement already satisfied: scipy in /usr/local/lib/python3.6/dist-packages (from PyPortfolioOpt) (1.4.1)\n",
            "Requirement already satisfied: pandas<0.26.0,>=0.25.3 in /usr/local/lib/python3.6/dist-packages (from PyPortfolioOpt) (0.25.3)\n",
            "Requirement already satisfied: ecos>=2 in /usr/local/lib/python3.6/dist-packages (from cvxpy<2.0.0,>=1.0.28->PyPortfolioOpt) (2.0.7.post1)\n",
            "Requirement already satisfied: multiprocess in /usr/local/lib/python3.6/dist-packages (from cvxpy<2.0.0,>=1.0.28->PyPortfolioOpt) (0.70.9)\n",
            "Requirement already satisfied: scs>=1.1.3 in /usr/local/lib/python3.6/dist-packages (from cvxpy<2.0.0,>=1.0.28->PyPortfolioOpt) (2.1.1.post2)\n",
            "Requirement already satisfied: osqp>=0.4.1 in /usr/local/lib/python3.6/dist-packages (from cvxpy<2.0.0,>=1.0.28->PyPortfolioOpt) (0.6.1)\n",
            "Requirement already satisfied: python-dateutil>=2.6.1 in /usr/local/lib/python3.6/dist-packages (from pandas<0.26.0,>=0.25.3->PyPortfolioOpt) (2.8.1)\n",
            "Requirement already satisfied: pytz>=2017.2 in /usr/local/lib/python3.6/dist-packages (from pandas<0.26.0,>=0.25.3->PyPortfolioOpt) (2018.9)\n",
            "Requirement already satisfied: dill>=0.3.1 in /usr/local/lib/python3.6/dist-packages (from multiprocess->cvxpy<2.0.0,>=1.0.28->PyPortfolioOpt) (0.3.1.1)\n",
            "Requirement already satisfied: future in /usr/local/lib/python3.6/dist-packages (from osqp>=0.4.1->cvxpy<2.0.0,>=1.0.28->PyPortfolioOpt) (0.16.0)\n",
            "Requirement already satisfied: six>=1.5 in /usr/local/lib/python3.6/dist-packages (from python-dateutil>=2.6.1->pandas<0.26.0,>=0.25.3->PyPortfolioOpt) (1.12.0)\n",
            "Installing collected packages: PyPortfolioOpt\n",
            "Successfully installed PyPortfolioOpt-1.0.0\n"
          ],
          "name": "stdout"
        }
      ]
    },
    {
      "cell_type": "code",
      "metadata": {
        "id": "e77D12rcSuoR",
        "colab_type": "code",
        "colab": {}
      },
      "source": [
        "# Import pypfopt librairies\n",
        "\n",
        "from pypfopt.efficient_frontier import EfficientFrontier\n",
        "from pypfopt import risk_models\n",
        "from pypfopt import expected_returns"
      ],
      "execution_count": 0,
      "outputs": []
    },
    {
      "cell_type": "code",
      "metadata": {
        "id": "lw7vtNlNTf3X",
        "colab_type": "code",
        "outputId": "a6a7a65a-724c-4822-9dea-2254a5a4ce58",
        "colab": {
          "base_uri": "https://localhost:8080/",
          "height": 102
        }
      },
      "source": [
        "# Portfolio Optimization\n",
        "\n",
        "# Calculate expected returns and the annualized covariance matrix of portfolio\n",
        "mu = expected_returns.mean_historical_return(df)\n",
        "S = risk_models.sample_cov(df)\n",
        "\n",
        "# Optimize for max sharpe ratio\n",
        "ef = EfficientFrontier(mu, S)\n",
        "weights = ef.max_sharpe()\n",
        "cleaned_weights = ef.clean_weights()\n",
        "print(cleaned_weights)\n",
        "ef.portfolio_performance(verbose = True)\n"
      ],
      "execution_count": 0,
      "outputs": [
        {
          "output_type": "stream",
          "text": [
            "{'GOOGL': 0.19457, 'AAPL': 0.35044, 'TWTR': 0.0, 'NKE': 0.02345, 'GLD': 0.43154, 'BP': 0.0, 'BIDU': 0.0}\n",
            "Expected annual return: 13.1%\n",
            "Annual volatility: 14.0%\n",
            "Sharpe Ratio: 0.79\n"
          ],
          "name": "stdout"
        },
        {
          "output_type": "execute_result",
          "data": {
            "text/plain": [
              "(0.13123547479434608, 0.13993233152024828, 0.7949233289109475)"
            ]
          },
          "metadata": {
            "tags": []
          },
          "execution_count": 27
        }
      ]
    },
    {
      "cell_type": "code",
      "metadata": {
        "id": "AA0sORRKVnzU",
        "colab_type": "code",
        "outputId": "9a780230-6886-4dde-8482-3108d6f9ae59",
        "colab": {
          "base_uri": "https://localhost:8080/",
          "height": 51
        }
      },
      "source": [
        "# Get the discrete allocation of each share per stock\n",
        "from pypfopt.discrete_allocation import DiscreteAllocation, get_latest_prices\n",
        "\n",
        "latest_prices = get_latest_prices(df)\n",
        "weights = cleaned_weights\n",
        "da = DiscreteAllocation(weights, latest_prices, total_portfolio_value = 120000)\n",
        "\n",
        "allocation , leftover = da.lp_portfolio()\n",
        "print(\"Discrete allocation:\", allocation)\n",
        "print(\"Funds remaining: ${:.2f}\".format(leftover))"
      ],
      "execution_count": 0,
      "outputs": [
        {
          "output_type": "stream",
          "text": [
            "Discrete allocation: {'GOOGL': 21.0, 'AAPL': 171.0, 'NKE': 42.0, 'GLD': 369.0}\n",
            "Funds remaining: $128.46\n"
          ],
          "name": "stdout"
        }
      ]
    }
  ]
}